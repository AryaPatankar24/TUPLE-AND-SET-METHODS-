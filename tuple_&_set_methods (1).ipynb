{
  "nbformat": 4,
  "nbformat_minor": 0,
  "metadata": {
    "colab": {
      "provenance": []
    },
    "kernelspec": {
      "name": "python3",
      "display_name": "Python 3"
    },
    "language_info": {
      "name": "python"
    }
  },
  "cells": [
    {
      "cell_type": "markdown",
      "source": [
        "#tuple method"
      ],
      "metadata": {
        "id": "KFlB10-NqjQX"
      }
    },
    {
      "cell_type": "markdown",
      "source": [
        "# - 1 count()"
      ],
      "metadata": {
        "id": "wGUEl_XNqohk"
      }
    },
    {
      "cell_type": "code",
      "execution_count": 3,
      "metadata": {
        "id": "zhEZuAB0qWs-"
      },
      "outputs": [],
      "source": [
        "t1 = (0,1,2,3,4,1,2,4,1,2,4,5,4,1,2,3,6,4,1,2,3,2,1,4,1,2)"
      ]
    },
    {
      "cell_type": "code",
      "source": [
        "t1.count(2)"
      ],
      "metadata": {
        "colab": {
          "base_uri": "https://localhost:8080/"
        },
        "id": "Yjge7vo-qwfk",
        "outputId": "82c232a3-a6d1-49bb-a297-b3dc4a3156ef"
      },
      "execution_count": 4,
      "outputs": [
        {
          "output_type": "execute_result",
          "data": {
            "text/plain": [
              "7"
            ]
          },
          "metadata": {},
          "execution_count": 4
        }
      ]
    },
    {
      "cell_type": "markdown",
      "source": [
        "# 2 index ()\n",
        "\n",
        "Returns the index of the first occurrence of the specified value."
      ],
      "metadata": {
        "id": "340sTixUrBAn"
      }
    },
    {
      "cell_type": "code",
      "source": [
        "t1"
      ],
      "metadata": {
        "colab": {
          "base_uri": "https://localhost:8080/"
        },
        "id": "WgslM9Ljq2ZT",
        "outputId": "59dee34e-ab73-4c57-d957-c02bd502ac32"
      },
      "execution_count": 5,
      "outputs": [
        {
          "output_type": "execute_result",
          "data": {
            "text/plain": [
              "(0, 1, 2, 3, 4, 1, 2, 4, 1, 2, 4, 5, 4, 1, 2, 3, 6, 4, 1, 2, 3, 2, 1, 4, 1, 2)"
            ]
          },
          "metadata": {},
          "execution_count": 5
        }
      ]
    },
    {
      "cell_type": "code",
      "source": [
        "t1.index(5)"
      ],
      "metadata": {
        "colab": {
          "base_uri": "https://localhost:8080/"
        },
        "id": "roIl0476rTj9",
        "outputId": "8c818c85-5b52-44a3-d4e2-c080a7b1687c"
      },
      "execution_count": 7,
      "outputs": [
        {
          "output_type": "execute_result",
          "data": {
            "text/plain": [
              "11"
            ]
          },
          "metadata": {},
          "execution_count": 7
        }
      ]
    },
    {
      "cell_type": "markdown",
      "source": [
        "#set methods"
      ],
      "metadata": {
        "id": "C7UOFSIBrpx5"
      }
    },
    {
      "cell_type": "markdown",
      "source": [
        "# 1 - add(element)"
      ],
      "metadata": {
        "id": "yqwYiFIQrszR"
      }
    },
    {
      "cell_type": "code",
      "source": [
        "set1 = {1,2,3}"
      ],
      "metadata": {
        "id": "96lsTILcrd2Z"
      },
      "execution_count": 8,
      "outputs": []
    },
    {
      "cell_type": "code",
      "source": [
        "set1.add(4)"
      ],
      "metadata": {
        "id": "MmGh5o0Iry0D"
      },
      "execution_count": 9,
      "outputs": []
    },
    {
      "cell_type": "code",
      "source": [
        "set1"
      ],
      "metadata": {
        "colab": {
          "base_uri": "https://localhost:8080/"
        },
        "id": "sxSwvMDFr1Tv",
        "outputId": "e9b8a10c-fdc1-4896-ec24-c9e7dc37644c"
      },
      "execution_count": 10,
      "outputs": [
        {
          "output_type": "execute_result",
          "data": {
            "text/plain": [
              "{1, 2, 3, 4}"
            ]
          },
          "metadata": {},
          "execution_count": 10
        }
      ]
    },
    {
      "cell_type": "markdown",
      "source": [
        "# 2. remove(element)"
      ],
      "metadata": {
        "id": "dGVquhu3r-mK"
      }
    },
    {
      "cell_type": "code",
      "source": [
        "set1.remove(4)"
      ],
      "metadata": {
        "id": "wu6dZcD8r23P"
      },
      "execution_count": 11,
      "outputs": []
    },
    {
      "cell_type": "code",
      "source": [
        "set1"
      ],
      "metadata": {
        "colab": {
          "base_uri": "https://localhost:8080/"
        },
        "id": "NHwvo--YsFFr",
        "outputId": "f04aa1e7-874e-4f60-a6c5-8035814ca615"
      },
      "execution_count": 12,
      "outputs": [
        {
          "output_type": "execute_result",
          "data": {
            "text/plain": [
              "{1, 2, 3}"
            ]
          },
          "metadata": {},
          "execution_count": 12
        }
      ]
    },
    {
      "cell_type": "code",
      "source": [
        "set1.remove(4)"
      ],
      "metadata": {
        "colab": {
          "base_uri": "https://localhost:8080/",
          "height": 141
        },
        "id": "IG0NWQiwsF0A",
        "outputId": "caca427a-8263-4fc2-ae22-3757192aeab0"
      },
      "execution_count": 13,
      "outputs": [
        {
          "output_type": "error",
          "ename": "KeyError",
          "evalue": "4",
          "traceback": [
            "\u001b[0;31m---------------------------------------------------------------------------\u001b[0m",
            "\u001b[0;31mKeyError\u001b[0m                                  Traceback (most recent call last)",
            "\u001b[0;32m<ipython-input-13-bc5bb977a8c8>\u001b[0m in \u001b[0;36m<cell line: 1>\u001b[0;34m()\u001b[0m\n\u001b[0;32m----> 1\u001b[0;31m \u001b[0mset1\u001b[0m\u001b[0;34m.\u001b[0m\u001b[0mremove\u001b[0m\u001b[0;34m(\u001b[0m\u001b[0;36m4\u001b[0m\u001b[0;34m)\u001b[0m\u001b[0;34m\u001b[0m\u001b[0;34m\u001b[0m\u001b[0m\n\u001b[0m",
            "\u001b[0;31mKeyError\u001b[0m: 4"
          ]
        }
      ]
    },
    {
      "cell_type": "markdown",
      "source": [
        "# 3. discard(element)\n",
        "Removes the specified element, but does not raise an error if the element is not found."
      ],
      "metadata": {
        "id": "3UuEZG9GsmEN"
      }
    },
    {
      "cell_type": "code",
      "source": [
        "set1"
      ],
      "metadata": {
        "colab": {
          "base_uri": "https://localhost:8080/"
        },
        "id": "aqSRlqtosdtU",
        "outputId": "40314d64-5986-4af0-f2e2-9d9c71c77393"
      },
      "execution_count": 14,
      "outputs": [
        {
          "output_type": "execute_result",
          "data": {
            "text/plain": [
              "{1, 2, 3}"
            ]
          },
          "metadata": {},
          "execution_count": 14
        }
      ]
    },
    {
      "cell_type": "code",
      "source": [
        "set1.discard(4)"
      ],
      "metadata": {
        "id": "j6U5pWPgswtL"
      },
      "execution_count": 15,
      "outputs": []
    },
    {
      "cell_type": "code",
      "source": [],
      "metadata": {
        "id": "l0nsmEhqszhd"
      },
      "execution_count": null,
      "outputs": []
    },
    {
      "cell_type": "markdown",
      "source": [
        "#4. pop()\n",
        "Removes and returns an arbitrary element from the set. Raises KeyError if the set is empty.\n",
        "\n",
        "elem could be any element,\n"
      ],
      "metadata": {
        "id": "Ywj4nshCs-ng"
      }
    },
    {
      "cell_type": "code",
      "source": [
        "set1"
      ],
      "metadata": {
        "colab": {
          "base_uri": "https://localhost:8080/"
        },
        "id": "hnCoDeFEtEPW",
        "outputId": "a0469c80-348d-4421-f0f0-23a188ddf62a"
      },
      "execution_count": 16,
      "outputs": [
        {
          "output_type": "execute_result",
          "data": {
            "text/plain": [
              "{1, 2, 3}"
            ]
          },
          "metadata": {},
          "execution_count": 16
        }
      ]
    },
    {
      "cell_type": "code",
      "source": [
        "set1.pop()   #elem could be any element,"
      ],
      "metadata": {
        "colab": {
          "base_uri": "https://localhost:8080/"
        },
        "id": "9xAo91AVtMZT",
        "outputId": "3b356ef3-cc9d-48ef-d243-2b1aa939f596"
      },
      "execution_count": 18,
      "outputs": [
        {
          "output_type": "execute_result",
          "data": {
            "text/plain": [
              "2"
            ]
          },
          "metadata": {},
          "execution_count": 18
        }
      ]
    },
    {
      "cell_type": "markdown",
      "source": [
        "# 5. clear()"
      ],
      "metadata": {
        "id": "ewXcTGiJtnQE"
      }
    },
    {
      "cell_type": "code",
      "source": [
        "set1"
      ],
      "metadata": {
        "colab": {
          "base_uri": "https://localhost:8080/"
        },
        "id": "b_kqUsgFtORd",
        "outputId": "0b69fe38-87f1-4e25-9b80-dbb756d5dd0a"
      },
      "execution_count": 19,
      "outputs": [
        {
          "output_type": "execute_result",
          "data": {
            "text/plain": [
              "{3}"
            ]
          },
          "metadata": {},
          "execution_count": 19
        }
      ]
    },
    {
      "cell_type": "code",
      "source": [
        "set1.clear()"
      ],
      "metadata": {
        "id": "u6_Q1xL5uHpr"
      },
      "execution_count": 20,
      "outputs": []
    },
    {
      "cell_type": "code",
      "source": [],
      "metadata": {
        "id": "p98HpM8Wu7-l"
      },
      "execution_count": null,
      "outputs": []
    },
    {
      "cell_type": "code",
      "source": [
        "set1"
      ],
      "metadata": {
        "colab": {
          "base_uri": "https://localhost:8080/"
        },
        "id": "NDWG7bD3uKCK",
        "outputId": "4ed9bdaa-7d7f-493d-e58a-2783ddd44077"
      },
      "execution_count": 21,
      "outputs": [
        {
          "output_type": "execute_result",
          "data": {
            "text/plain": [
              "set()"
            ]
          },
          "metadata": {},
          "execution_count": 21
        }
      ]
    },
    {
      "cell_type": "markdown",
      "source": [
        "# 6 update()"
      ],
      "metadata": {
        "id": "gO7_LRkJvHB8"
      }
    },
    {
      "cell_type": "code",
      "source": [
        "set1 ={1,2}"
      ],
      "metadata": {
        "id": "BzMiT8Plu9kD"
      },
      "execution_count": 27,
      "outputs": []
    },
    {
      "cell_type": "code",
      "source": [
        "set1.update({3,4,5})"
      ],
      "metadata": {
        "id": "ErzjKZTfvRdT"
      },
      "execution_count": 28,
      "outputs": []
    },
    {
      "cell_type": "code",
      "source": [
        "set1"
      ],
      "metadata": {
        "colab": {
          "base_uri": "https://localhost:8080/"
        },
        "id": "4o7aIDXvvY8n",
        "outputId": "a829e30f-32cd-49b8-9930-601313270bd0"
      },
      "execution_count": 29,
      "outputs": [
        {
          "output_type": "execute_result",
          "data": {
            "text/plain": [
              "{1, 2, 3, 4, 5}"
            ]
          },
          "metadata": {},
          "execution_count": 29
        }
      ]
    },
    {
      "cell_type": "markdown",
      "source": [
        "#empty set, dict, list, tuple"
      ],
      "metadata": {
        "id": "0Vj8m7RKuZUF"
      }
    },
    {
      "cell_type": "code",
      "source": [
        "set1 = set()"
      ],
      "metadata": {
        "id": "Ik8MSr0yuKwM"
      },
      "execution_count": 22,
      "outputs": []
    },
    {
      "cell_type": "code",
      "source": [
        "dict = {}"
      ],
      "metadata": {
        "id": "cVsTp_iouihF"
      },
      "execution_count": 23,
      "outputs": []
    },
    {
      "cell_type": "code",
      "source": [
        "l1 = []"
      ],
      "metadata": {
        "id": "D54nUWfSukuL"
      },
      "execution_count": 24,
      "outputs": []
    },
    {
      "cell_type": "code",
      "source": [
        "t1 =()"
      ],
      "metadata": {
        "id": "gfKodMC8unMf"
      },
      "execution_count": 25,
      "outputs": []
    },
    {
      "cell_type": "code",
      "source": [],
      "metadata": {
        "id": "D5DJJKYvupF5"
      },
      "execution_count": null,
      "outputs": []
    }
  ]
}